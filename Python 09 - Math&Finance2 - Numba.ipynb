{
 "cells": [
  {
   "cell_type": "markdown",
   "id": "interstate-presence",
   "metadata": {},
   "source": [
    "## Exercises\n",
    "\n",
    "In order to master the material of this module, do the following:\n",
    "\n",
    "* think of different loop structures seen in or similar to financial algorithms\n",
    "* implement them in pure Python, in vectorized fashion (if possible) and dynamically compiled\n",
    "* implement the binomial option pricing model in pure Python, vectorized and dynamically compiled\n",
    "* implement a Monte Carlo simulation for a geometric Brownian motion in pure Python, vectorized and dynamically compiled\n",
    "* compare the performance of the different implementations"
   ]
  },
  {
   "cell_type": "code",
   "execution_count": 15,
   "id": "fantastic-first",
   "metadata": {},
   "outputs": [],
   "source": [
    "import math  # mathematical functions\n",
    "import numpy as np  # array operations\n",
    "import pandas as pd  # time series management\n",
    "import numba as nb  # dynamic compiling"
   ]
  },
  {
   "cell_type": "code",
   "execution_count": 4,
   "id": "sapphire-lambda",
   "metadata": {},
   "outputs": [
    {
     "name": "stdout",
     "output_type": "stream",
     "text": [
      "7781250\n",
      "Wall time: 8.17 s\n"
     ]
    }
   ],
   "source": [
    "%%time\n",
    "def count(N):\n",
    "    s = 0\n",
    "    for i in range(N):\n",
    "        for j in range(N * i):\n",
    "            # generate intentionally some computational burden\n",
    "            s += int(math.log(math.sin(math.pi / 2)) + 1)\n",
    "    return s\n",
    "print(count(250))"
   ]
  },
  {
   "cell_type": "code",
   "execution_count": null,
   "id": "classical-divide",
   "metadata": {},
   "outputs": [],
   "source": []
  },
  {
   "cell_type": "markdown",
   "id": "trained-abortion",
   "metadata": {},
   "source": [
    "### Dynamic Compiling with Numba\n",
    "\n",
    "Numba is a Python library that allows to dynamically compile Python code to machine code (using the LLVM infrastructure). The application is straightforward.\n",
    "\n",
    "The result of the compilation is a directly callable function. First time execution involves a bit of overhead.\n"
   ]
  },
  {
   "cell_type": "code",
   "execution_count": 6,
   "id": "white-limit",
   "metadata": {},
   "outputs": [],
   "source": [
    "count_nb = nb.jit(count)"
   ]
  },
  {
   "cell_type": "code",
   "execution_count": 9,
   "id": "copyrighted-gravity",
   "metadata": {},
   "outputs": [
    {
     "name": "stdout",
     "output_type": "stream",
     "text": [
      "Wall time: 0 ns\n"
     ]
    },
    {
     "data": {
      "text/plain": [
       "7781250"
      ]
     },
     "execution_count": 9,
     "metadata": {},
     "output_type": "execute_result"
    }
   ],
   "source": [
    "%time count_nb(250)"
   ]
  },
  {
   "cell_type": "code",
   "execution_count": null,
   "id": "angry-defendant",
   "metadata": {},
   "outputs": [],
   "source": []
  },
  {
   "cell_type": "markdown",
   "id": "interpreted-individual",
   "metadata": {},
   "source": [
    "Consider the following **simple, recursive algorithm**. For $i=0$ (first element), we have\n",
    "\n",
    "$\n",
    "r_0 = s_0\n",
    "$\n",
    "\n",
    "For $i>0$ (all others), we have\n",
    "\n",
    "$\n",
    "r_i = r_{i-1} + \\frac{1}{2} s_{i}\n",
    "$\n",
    "\n",
    "In Python, we get something like the following code."
   ]
  },
  {
   "cell_type": "code",
   "execution_count": 10,
   "id": "previous-resort",
   "metadata": {},
   "outputs": [],
   "source": [
    "def simple(s):\n",
    "    r = np.empty_like(s)\n",
    "    r[0] = s[0]\n",
    "    for i in range(1, len(s)):\n",
    "        r[i] = r[i - 1] + 0.5 * s[i]\n",
    "    return r"
   ]
  },
  {
   "cell_type": "code",
   "execution_count": 11,
   "id": "mineral-diversity",
   "metadata": {},
   "outputs": [],
   "source": [
    "data = np.arange(10000000.)\n"
   ]
  },
  {
   "cell_type": "code",
   "execution_count": 12,
   "id": "computational-plumbing",
   "metadata": {},
   "outputs": [
    {
     "name": "stdout",
     "output_type": "stream",
     "text": [
      "Wall time: 8.93 s\n"
     ]
    },
    {
     "data": {
      "text/plain": [
       "array([0.00000000e+00, 5.00000000e-01, 1.50000000e+00, ...,\n",
       "       2.49999875e+13, 2.49999925e+13, 2.49999975e+13])"
      ]
     },
     "execution_count": 12,
     "metadata": {},
     "output_type": "execute_result"
    }
   ],
   "source": [
    "%time simple(data)"
   ]
  },
  {
   "cell_type": "markdown",
   "id": "gothic-liberia",
   "metadata": {},
   "source": [
    "\n",
    "### Numba Version"
   ]
  },
  {
   "cell_type": "code",
   "execution_count": 13,
   "id": "fifty-dryer",
   "metadata": {},
   "outputs": [],
   "source": [
    "simple_nb = nb.jit(simple)"
   ]
  },
  {
   "cell_type": "code",
   "execution_count": 14,
   "id": "affected-injury",
   "metadata": {},
   "outputs": [
    {
     "name": "stdout",
     "output_type": "stream",
     "text": [
      "Wall time: 269 ms\n"
     ]
    },
    {
     "data": {
      "text/plain": [
       "array([0.00000000e+00, 5.00000000e-01, 1.50000000e+00, ...,\n",
       "       2.49999875e+13, 2.49999925e+13, 2.49999975e+13])"
      ]
     },
     "execution_count": 14,
     "metadata": {},
     "output_type": "execute_result"
    }
   ],
   "source": [
    "%time simple_nb(data)"
   ]
  },
  {
   "cell_type": "code",
   "execution_count": null,
   "id": "appointed-orbit",
   "metadata": {},
   "outputs": [],
   "source": []
  }
 ],
 "metadata": {
  "kernelspec": {
   "display_name": "Python 3",
   "language": "python",
   "name": "python3"
  },
  "language_info": {
   "codemirror_mode": {
    "name": "ipython",
    "version": 3
   },
   "file_extension": ".py",
   "mimetype": "text/x-python",
   "name": "python",
   "nbconvert_exporter": "python",
   "pygments_lexer": "ipython3",
   "version": "3.8.5"
  }
 },
 "nbformat": 4,
 "nbformat_minor": 5
}
